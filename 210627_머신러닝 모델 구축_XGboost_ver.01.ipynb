{
 "cells": [
  {
   "cell_type": "code",
   "execution_count": 1,
   "metadata": {
    "id": "TFGT_8ELJC9t"
   },
   "outputs": [],
   "source": [
    "import matplotlib.pyplot as plt\n",
    "%matplotlib inline\n",
    "import platform\n",
    "\n",
    "from matplotlib import font_manager, rc\n",
    "\n",
    "plt.style.available\n",
    "#plt.style.use('gadfly')\n",
    "\n",
    "font_name = font_manager.FontProperties(fname='c:/Windows/Fonts/malgun.ttf').get_name()\n",
    "rc('font', family = font_name)\n",
    "    \n",
    "plt.rcParams['axes.unicode_minus'] = False\n",
    "\n",
    "import seaborn as sns\n",
    "import numpy as np\n",
    "import pandas as pd\n",
    "import os\n",
    "\n",
    "import folium\n",
    "import json\n",
    "\n",
    "import warnings\n",
    "warnings.simplefilter(action='ignore', category=FutureWarning)\n",
    "\n",
    "#os.chdir('C:/Users/yewoo/Anaconda3/Project/머신러닝_ver2.0')\n",
    "os.chdir('D:\\소음예측프로젝트\\머신러닝2_화이팅...!!\\data')\n",
    "\n",
    "import mapboxgl\n",
    "from mapboxgl.viz import *\n",
    "import geopandas as gpd\n",
    "from mapboxgl.utils import df_to_geojson\n",
    "from mapboxgl.utils import(create_numeric_stops, create_color_stops, create_radius_stops)\n",
    "\n",
    "# mapbox용 토큰 및 지도 center\n",
    "token = 'pk.eyJ1IjoiYmptMDM2MSIsImEiOiJjazc0ZjJvcGswNGxrM2twbGtibTlxM3RrIn0._y5hcO3xGUtAEsocRw7tqA'\n",
    "center = [126.986, 37.565]"
   ]
  },
  {
   "cell_type": "markdown",
   "metadata": {
    "id": "TH4hApsoJC9x"
   },
   "source": [
    "## 1. 파일 읽기"
   ]
  },
  {
   "cell_type": "code",
   "execution_count": 2,
   "metadata": {
    "id": "dMC6ZTqZJC9x",
    "outputId": "3ec13892-4a01-4f2c-d68d-97fddb05e470",
    "scrolled": true
   },
   "outputs": [
    {
     "data": {
      "text/html": [
       "<div>\n",
       "<style scoped>\n",
       "    .dataframe tbody tr th:only-of-type {\n",
       "        vertical-align: middle;\n",
       "    }\n",
       "\n",
       "    .dataframe tbody tr th {\n",
       "        vertical-align: top;\n",
       "    }\n",
       "\n",
       "    .dataframe thead th {\n",
       "        text-align: right;\n",
       "    }\n",
       "</style>\n",
       "<table border=\"1\" class=\"dataframe\">\n",
       "  <thead>\n",
       "    <tr style=\"text-align: right;\">\n",
       "      <th></th>\n",
       "      <th>용도구분</th>\n",
       "      <th>법적구분</th>\n",
       "      <th>도로폭</th>\n",
       "      <th>도로명</th>\n",
       "      <th>도로규모</th>\n",
       "      <th>구</th>\n",
       "      <th>lng_x</th>\n",
       "      <th>lat_x</th>\n",
       "      <th>LEQ</th>\n",
       "      <th>2번신호등</th>\n",
       "      <th>...</th>\n",
       "      <th>비만율</th>\n",
       "      <th>스트레스 인지율</th>\n",
       "      <th>우울감 경험률</th>\n",
       "      <th>양호한 주관적 건강수준 인지율</th>\n",
       "      <th>가로녹시율평균</th>\n",
       "      <th>간선도로</th>\n",
       "      <th>보조간선도로</th>\n",
       "      <th>집산도로</th>\n",
       "      <th>국지도로</th>\n",
       "      <th>요일별통행속도평균</th>\n",
       "    </tr>\n",
       "  </thead>\n",
       "  <tbody>\n",
       "    <tr>\n",
       "      <td>0</td>\n",
       "      <td>1</td>\n",
       "      <td>2</td>\n",
       "      <td>6</td>\n",
       "      <td>92</td>\n",
       "      <td>4</td>\n",
       "      <td>20</td>\n",
       "      <td>126.981299</td>\n",
       "      <td>37.573645</td>\n",
       "      <td>54.666667</td>\n",
       "      <td>0</td>\n",
       "      <td>...</td>\n",
       "      <td>26.085714</td>\n",
       "      <td>28.885714</td>\n",
       "      <td>7.557143</td>\n",
       "      <td>44.242857</td>\n",
       "      <td>19.471667</td>\n",
       "      <td>21.636667</td>\n",
       "      <td>29.311667</td>\n",
       "      <td>16.395000</td>\n",
       "      <td>10.548333</td>\n",
       "      <td>23.300000</td>\n",
       "    </tr>\n",
       "    <tr>\n",
       "      <td>1</td>\n",
       "      <td>1</td>\n",
       "      <td>2</td>\n",
       "      <td>6</td>\n",
       "      <td>92</td>\n",
       "      <td>4</td>\n",
       "      <td>20</td>\n",
       "      <td>126.981299</td>\n",
       "      <td>37.573645</td>\n",
       "      <td>52.166667</td>\n",
       "      <td>0</td>\n",
       "      <td>...</td>\n",
       "      <td>26.085714</td>\n",
       "      <td>28.885714</td>\n",
       "      <td>7.557143</td>\n",
       "      <td>44.242857</td>\n",
       "      <td>19.471667</td>\n",
       "      <td>21.636667</td>\n",
       "      <td>29.311667</td>\n",
       "      <td>16.395000</td>\n",
       "      <td>10.548333</td>\n",
       "      <td>23.300000</td>\n",
       "    </tr>\n",
       "    <tr>\n",
       "      <td>2</td>\n",
       "      <td>1</td>\n",
       "      <td>2</td>\n",
       "      <td>6</td>\n",
       "      <td>92</td>\n",
       "      <td>4</td>\n",
       "      <td>20</td>\n",
       "      <td>126.981299</td>\n",
       "      <td>37.573645</td>\n",
       "      <td>54.166667</td>\n",
       "      <td>0</td>\n",
       "      <td>...</td>\n",
       "      <td>26.085714</td>\n",
       "      <td>28.885714</td>\n",
       "      <td>7.557143</td>\n",
       "      <td>44.242857</td>\n",
       "      <td>19.471667</td>\n",
       "      <td>21.636667</td>\n",
       "      <td>29.311667</td>\n",
       "      <td>16.395000</td>\n",
       "      <td>10.548333</td>\n",
       "      <td>23.300000</td>\n",
       "    </tr>\n",
       "    <tr>\n",
       "      <td>3</td>\n",
       "      <td>1</td>\n",
       "      <td>2</td>\n",
       "      <td>6</td>\n",
       "      <td>92</td>\n",
       "      <td>4</td>\n",
       "      <td>20</td>\n",
       "      <td>126.981299</td>\n",
       "      <td>37.573645</td>\n",
       "      <td>52.833333</td>\n",
       "      <td>0</td>\n",
       "      <td>...</td>\n",
       "      <td>26.085714</td>\n",
       "      <td>28.885714</td>\n",
       "      <td>7.557143</td>\n",
       "      <td>44.242857</td>\n",
       "      <td>19.471667</td>\n",
       "      <td>21.636667</td>\n",
       "      <td>29.311667</td>\n",
       "      <td>16.395000</td>\n",
       "      <td>10.548333</td>\n",
       "      <td>23.300000</td>\n",
       "    </tr>\n",
       "    <tr>\n",
       "      <td>4</td>\n",
       "      <td>1</td>\n",
       "      <td>2</td>\n",
       "      <td>0</td>\n",
       "      <td>96</td>\n",
       "      <td>1</td>\n",
       "      <td>20</td>\n",
       "      <td>126.983676</td>\n",
       "      <td>37.573718</td>\n",
       "      <td>54.666667</td>\n",
       "      <td>5</td>\n",
       "      <td>...</td>\n",
       "      <td>26.085714</td>\n",
       "      <td>28.885714</td>\n",
       "      <td>7.557143</td>\n",
       "      <td>44.242857</td>\n",
       "      <td>19.471667</td>\n",
       "      <td>21.636667</td>\n",
       "      <td>29.311667</td>\n",
       "      <td>16.395000</td>\n",
       "      <td>10.548333</td>\n",
       "      <td>23.300000</td>\n",
       "    </tr>\n",
       "    <tr>\n",
       "      <td>...</td>\n",
       "      <td>...</td>\n",
       "      <td>...</td>\n",
       "      <td>...</td>\n",
       "      <td>...</td>\n",
       "      <td>...</td>\n",
       "      <td>...</td>\n",
       "      <td>...</td>\n",
       "      <td>...</td>\n",
       "      <td>...</td>\n",
       "      <td>...</td>\n",
       "      <td>...</td>\n",
       "      <td>...</td>\n",
       "      <td>...</td>\n",
       "      <td>...</td>\n",
       "      <td>...</td>\n",
       "      <td>...</td>\n",
       "      <td>...</td>\n",
       "      <td>...</td>\n",
       "      <td>...</td>\n",
       "      <td>...</td>\n",
       "      <td>...</td>\n",
       "    </tr>\n",
       "    <tr>\n",
       "      <td>389207</td>\n",
       "      <td>7</td>\n",
       "      <td>0</td>\n",
       "      <td>0</td>\n",
       "      <td>17</td>\n",
       "      <td>1</td>\n",
       "      <td>0</td>\n",
       "      <td>127.054344</td>\n",
       "      <td>37.490652</td>\n",
       "      <td>74.420000</td>\n",
       "      <td>4</td>\n",
       "      <td>...</td>\n",
       "      <td>21.285714</td>\n",
       "      <td>30.400000</td>\n",
       "      <td>6.814286</td>\n",
       "      <td>50.714286</td>\n",
       "      <td>37.266667</td>\n",
       "      <td>41.136667</td>\n",
       "      <td>37.448333</td>\n",
       "      <td>39.736667</td>\n",
       "      <td>30.750000</td>\n",
       "      <td>24.683333</td>\n",
       "    </tr>\n",
       "    <tr>\n",
       "      <td>389208</td>\n",
       "      <td>7</td>\n",
       "      <td>0</td>\n",
       "      <td>0</td>\n",
       "      <td>17</td>\n",
       "      <td>1</td>\n",
       "      <td>0</td>\n",
       "      <td>127.054344</td>\n",
       "      <td>37.490652</td>\n",
       "      <td>74.670000</td>\n",
       "      <td>4</td>\n",
       "      <td>...</td>\n",
       "      <td>21.285714</td>\n",
       "      <td>30.400000</td>\n",
       "      <td>6.814286</td>\n",
       "      <td>50.714286</td>\n",
       "      <td>37.266667</td>\n",
       "      <td>41.136667</td>\n",
       "      <td>37.448333</td>\n",
       "      <td>39.736667</td>\n",
       "      <td>30.750000</td>\n",
       "      <td>24.683333</td>\n",
       "    </tr>\n",
       "    <tr>\n",
       "      <td>389209</td>\n",
       "      <td>7</td>\n",
       "      <td>0</td>\n",
       "      <td>0</td>\n",
       "      <td>17</td>\n",
       "      <td>1</td>\n",
       "      <td>0</td>\n",
       "      <td>127.054344</td>\n",
       "      <td>37.490652</td>\n",
       "      <td>74.410000</td>\n",
       "      <td>4</td>\n",
       "      <td>...</td>\n",
       "      <td>21.285714</td>\n",
       "      <td>30.400000</td>\n",
       "      <td>6.814286</td>\n",
       "      <td>50.714286</td>\n",
       "      <td>37.266667</td>\n",
       "      <td>41.136667</td>\n",
       "      <td>37.448333</td>\n",
       "      <td>39.736667</td>\n",
       "      <td>30.750000</td>\n",
       "      <td>24.683333</td>\n",
       "    </tr>\n",
       "    <tr>\n",
       "      <td>389210</td>\n",
       "      <td>7</td>\n",
       "      <td>0</td>\n",
       "      <td>0</td>\n",
       "      <td>17</td>\n",
       "      <td>1</td>\n",
       "      <td>0</td>\n",
       "      <td>127.054344</td>\n",
       "      <td>37.490652</td>\n",
       "      <td>73.920000</td>\n",
       "      <td>4</td>\n",
       "      <td>...</td>\n",
       "      <td>21.285714</td>\n",
       "      <td>30.400000</td>\n",
       "      <td>6.814286</td>\n",
       "      <td>50.714286</td>\n",
       "      <td>37.266667</td>\n",
       "      <td>41.136667</td>\n",
       "      <td>37.448333</td>\n",
       "      <td>39.736667</td>\n",
       "      <td>30.750000</td>\n",
       "      <td>24.683333</td>\n",
       "    </tr>\n",
       "    <tr>\n",
       "      <td>389211</td>\n",
       "      <td>7</td>\n",
       "      <td>0</td>\n",
       "      <td>0</td>\n",
       "      <td>17</td>\n",
       "      <td>1</td>\n",
       "      <td>0</td>\n",
       "      <td>127.054344</td>\n",
       "      <td>37.490652</td>\n",
       "      <td>74.250000</td>\n",
       "      <td>4</td>\n",
       "      <td>...</td>\n",
       "      <td>21.285714</td>\n",
       "      <td>30.400000</td>\n",
       "      <td>6.814286</td>\n",
       "      <td>50.714286</td>\n",
       "      <td>37.266667</td>\n",
       "      <td>41.136667</td>\n",
       "      <td>37.448333</td>\n",
       "      <td>39.736667</td>\n",
       "      <td>30.750000</td>\n",
       "      <td>24.683333</td>\n",
       "    </tr>\n",
       "  </tbody>\n",
       "</table>\n",
       "<p>389212 rows × 45 columns</p>\n",
       "</div>"
      ],
      "text/plain": [
       "        용도구분  법적구분  도로폭  도로명  도로규모   구       lng_x      lat_x        LEQ  \\\n",
       "0          1     2    6   92     4  20  126.981299  37.573645  54.666667   \n",
       "1          1     2    6   92     4  20  126.981299  37.573645  52.166667   \n",
       "2          1     2    6   92     4  20  126.981299  37.573645  54.166667   \n",
       "3          1     2    6   92     4  20  126.981299  37.573645  52.833333   \n",
       "4          1     2    0   96     1  20  126.983676  37.573718  54.666667   \n",
       "...      ...   ...  ...  ...   ...  ..         ...        ...        ...   \n",
       "389207     7     0    0   17     1   0  127.054344  37.490652  74.420000   \n",
       "389208     7     0    0   17     1   0  127.054344  37.490652  74.670000   \n",
       "389209     7     0    0   17     1   0  127.054344  37.490652  74.410000   \n",
       "389210     7     0    0   17     1   0  127.054344  37.490652  73.920000   \n",
       "389211     7     0    0   17     1   0  127.054344  37.490652  74.250000   \n",
       "\n",
       "        2번신호등  ...        비만율   스트레스 인지율   우울감 경험률  양호한 주관적 건강수준 인지율  \\\n",
       "0           0  ...  26.085714  28.885714  7.557143         44.242857   \n",
       "1           0  ...  26.085714  28.885714  7.557143         44.242857   \n",
       "2           0  ...  26.085714  28.885714  7.557143         44.242857   \n",
       "3           0  ...  26.085714  28.885714  7.557143         44.242857   \n",
       "4           5  ...  26.085714  28.885714  7.557143         44.242857   \n",
       "...       ...  ...        ...        ...       ...               ...   \n",
       "389207      4  ...  21.285714  30.400000  6.814286         50.714286   \n",
       "389208      4  ...  21.285714  30.400000  6.814286         50.714286   \n",
       "389209      4  ...  21.285714  30.400000  6.814286         50.714286   \n",
       "389210      4  ...  21.285714  30.400000  6.814286         50.714286   \n",
       "389211      4  ...  21.285714  30.400000  6.814286         50.714286   \n",
       "\n",
       "          가로녹시율평균       간선도로     보조간선도로       집산도로       국지도로  요일별통행속도평균  \n",
       "0       19.471667  21.636667  29.311667  16.395000  10.548333  23.300000  \n",
       "1       19.471667  21.636667  29.311667  16.395000  10.548333  23.300000  \n",
       "2       19.471667  21.636667  29.311667  16.395000  10.548333  23.300000  \n",
       "3       19.471667  21.636667  29.311667  16.395000  10.548333  23.300000  \n",
       "4       19.471667  21.636667  29.311667  16.395000  10.548333  23.300000  \n",
       "...           ...        ...        ...        ...        ...        ...  \n",
       "389207  37.266667  41.136667  37.448333  39.736667  30.750000  24.683333  \n",
       "389208  37.266667  41.136667  37.448333  39.736667  30.750000  24.683333  \n",
       "389209  37.266667  41.136667  37.448333  39.736667  30.750000  24.683333  \n",
       "389210  37.266667  41.136667  37.448333  39.736667  30.750000  24.683333  \n",
       "389211  37.266667  41.136667  37.448333  39.736667  30.750000  24.683333  \n",
       "\n",
       "[389212 rows x 45 columns]"
      ]
     },
     "execution_count": 2,
     "metadata": {},
     "output_type": "execute_result"
    }
   ],
   "source": [
    "data = pd.read_csv('200316_확장 통합 소음측정 데이터_ver.02_인코딩완료.csv',\n",
    "                   encoding='utf-8', index_col=0)\n",
    "data"
   ]
  },
  {
   "cell_type": "code",
   "execution_count": 3,
   "metadata": {
    "id": "PLEL6H_8JC91",
    "outputId": "4de6b505-00b7-4c05-c872-d4788f329259"
   },
   "outputs": [
    {
     "data": {
      "text/plain": [
       "(389212, 45)"
      ]
     },
     "execution_count": 3,
     "metadata": {},
     "output_type": "execute_result"
    }
   ],
   "source": [
    "data.shape"
   ]
  },
  {
   "cell_type": "code",
   "execution_count": 4,
   "metadata": {
    "id": "EjftkhMKJC94",
    "outputId": "811b92ff-f3c6-4014-8199-a8b5b4bda438"
   },
   "outputs": [
    {
     "name": "stdout",
     "output_type": "stream",
     "text": [
      "<class 'pandas.core.frame.DataFrame'>\n",
      "Int64Index: 389212 entries, 0 to 389211\n",
      "Data columns (total 45 columns):\n",
      "용도구분                  389212 non-null int64\n",
      "법적구분                  389212 non-null int64\n",
      "도로폭                   389212 non-null int64\n",
      "도로명                   389212 non-null int64\n",
      "도로규모                  389212 non-null int64\n",
      "구                     389212 non-null int64\n",
      "lng_x                 389212 non-null float64\n",
      "lat_x                 389212 non-null float64\n",
      "LEQ                   389212 non-null float64\n",
      "2번신호등                 389212 non-null int64\n",
      "3번신호등                 389212 non-null int64\n",
      "7번신호등                 389212 non-null int64\n",
      "23번신호등                389212 non-null int64\n",
      "27번신호등                389212 non-null int64\n",
      "37번신호등                389212 non-null int64\n",
      "237번신호등               389212 non-null int64\n",
      "모든신호등                 389212 non-null int64\n",
      "camera                389212 non-null int64\n",
      "교통사고_발생건수             389212 non-null float64\n",
      "교통사고_자동차 1만대당 발생건수    389212 non-null float64\n",
      "교통사고_사망자수             389212 non-null float64\n",
      "교통사고_인구 10만명당 사망자수    389212 non-null float64\n",
      "교통사고_부상자수             389212 non-null float64\n",
      "교통사고_인구 10만명당 부상자수    389212 non-null float64\n",
      "인구                    389212 non-null float64\n",
      "면적                    389212 non-null float64\n",
      "인구밀도(명/㎢)             389212 non-null float64\n",
      "소음배출시설_개소 합           389212 non-null int64\n",
      "소음배출시설_면적 합           389212 non-null int64\n",
      "현재흡연율                 389212 non-null float64\n",
      "금연시도율                 389212 non-null float64\n",
      "월간음주율                 389212 non-null float64\n",
      "연간 고위험음주율             389212 non-null float64\n",
      "증등도 이상 신체활동 실천율       389212 non-null float64\n",
      "걷기실천율                 389212 non-null float64\n",
      "비만율                   389212 non-null float64\n",
      "스트레스 인지율              389212 non-null float64\n",
      "우울감 경험률               389212 non-null float64\n",
      "양호한 주관적 건강수준 인지율      389212 non-null float64\n",
      "가로녹시율평균               389212 non-null float64\n",
      "간선도로                  389212 non-null float64\n",
      "보조간선도로                389212 non-null float64\n",
      "집산도로                  389212 non-null float64\n",
      "국지도로                  389212 non-null float64\n",
      "요일별통행속도평균             389212 non-null float64\n",
      "dtypes: float64(28), int64(17)\n",
      "memory usage: 136.6 MB\n"
     ]
    }
   ],
   "source": [
    "data.info()"
   ]
  },
  {
   "cell_type": "markdown",
   "metadata": {
    "id": "LGu7pCfyJC97"
   },
   "source": [
    "#### 인코딩 기준"
   ]
  },
  {
   "cell_type": "markdown",
   "metadata": {
    "id": "SwJMq5x6JC98"
   },
   "source": [
    "용도구분  \n",
    "Index(['일반주거지역', '상업지역', '학교지역', '준공업지역', '종합병원지역', '전용주거지역', '준주거지역', '녹지지역'], dtype='object')\n",
    "Int64Index([2, 1, 7, 5, 4, 3, 6, 0], dtype='int64')\n",
    "  \n",
    "법적구분  \n",
    "Index(['나', '가', '다'], dtype='object')\n",
    "Int64Index([1, 0, 2], dtype='int64')  \n",
    "\n",
    "도로폭  \n",
    "Index(['6m미만', '폭6-8m', '폭12-15m', '폭8-10m', '폭10-12m', '폭20-25m', '폭15-20m',\n",
    "       '폭30-35m'],\n",
    "      dtype='object')\n",
    "Int64Index([0, 6, 2, 7, 1, 4, 3, 5], dtype='int64')  \n",
    "\n",
    "도로명  \n",
    "Index(['신반포로', '올림픽로', '목동서로', '종암로', '논현로', '신촌로', '경인로', '선릉로', '동일로215길',\n",
    "       '대학로',\n",
    "       ...\n",
    "       '도봉로39길', '봉은사로18길', '강서로45다길', '국사봉2바길', '화곡로13길', '올림픽로70길',\n",
    "       '구천면로24길', '잠원로', '북아현로', '퇴계로26길'],\n",
    "      dtype='object', length=120)\n",
    "Int64Index([ 69,  88,  36, 102,  20,  72,   6,  52,  70,  27,\n",
    "            ...\n",
    "             25,  13,   2, 116,  42,  89,  12,  99,  45, 112],\n",
    "           dtype='int64', length=120)  \n",
    "            \n",
    "도로규모  \n",
    "Index(['소로', '소로3류', '중로3류', '소로2류', '소로1류', '중로1류', '중로2류', '대로2류'], dtype='object')\n",
    "Int64Index([1, 4, 7, 3, 2, 5, 6, 0], dtype='int64')  \n",
    "\n",
    "구  \n",
    "Index(['강남구', '성북구', '서초구', '구로구', '종로구', '영등포구', '강북구', '동대문구', '용산구', '은평구',\n",
    "       '중구', '노원구', '중랑구', '관악구', '마포구', '송파구', '동작구', '양천구', '강서구', '강동구',\n",
    "       '서대문구', '성동구', '광진구'],\n",
    "      dtype='object')\n",
    "Int64Index([ 0, 14, 12, 20, 17,  6,  2,  8, 18, 19, 21,  4,  7, 22, 10, 15,  9,\n",
    "            16,  3,  1, 11, 13,  5],\n",
    "           dtype='int64')"
   ]
  },
  {
   "cell_type": "markdown",
   "metadata": {
    "id": "URBiX784JC98"
   },
   "source": [
    "## 2. 머신러닝"
   ]
  },
  {
   "cell_type": "markdown",
   "metadata": {
    "id": "1DLUtV80JC99"
   },
   "source": [
    "### ========= 전체 변수 =========="
   ]
  },
  {
   "cell_type": "markdown",
   "metadata": {
    "id": "MiU2shl2JC99"
   },
   "source": [
    "###  1. 종속변수, 독립변수 나누기"
   ]
  },
  {
   "cell_type": "code",
   "execution_count": 5,
   "metadata": {
    "id": "1jbvAh_JJC99"
   },
   "outputs": [],
   "source": [
    "X = data.drop('LEQ', axis=1)\n",
    "y = data.LEQ"
   ]
  },
  {
   "cell_type": "code",
   "execution_count": 6,
   "metadata": {
    "id": "jZCR5rhNJC-A"
   },
   "outputs": [],
   "source": [
    "from sklearn.model_selection import train_test_split\n",
    "\n",
    "X_train, X_test, y_train, y_test = train_test_split(X, y, test_size=.3,\n",
    "                                                    random_state=0)"
   ]
  },
  {
   "cell_type": "code",
   "execution_count": 7,
   "metadata": {
    "id": "IahptFoxJC-E",
    "outputId": "50f5324a-f9b6-4a58-8feb-1a761b447509",
    "scrolled": true
   },
   "outputs": [
    {
     "name": "stdout",
     "output_type": "stream",
     "text": [
      "X_train : (272448, 44)\n",
      "X_test : (116764, 44)\n",
      "y_train : (272448,)\n",
      "y_test : (116764,)\n"
     ]
    }
   ],
   "source": [
    "print('X_train :', X_train.shape)\n",
    "print('X_test :', X_test.shape)\n",
    "print('y_train :', y_train.shape)\n",
    "print('y_test :', y_test.shape)"
   ]
  },
  {
   "cell_type": "markdown",
   "metadata": {
    "id": "PEzPyeJZJC-H"
   },
   "source": [
    "### 2. Scale 해주기"
   ]
  },
  {
   "cell_type": "code",
   "execution_count": 8,
   "metadata": {
    "id": "wK46skU3JC-H"
   },
   "outputs": [],
   "source": [
    "from sklearn.preprocessing import StandardScaler\n",
    "st_scaler = StandardScaler().fit(X_train)\n",
    "\n",
    "# 적용\n",
    "X_train_scaled = st_scaler.transform(X_train)\n",
    "X_test_scaled = st_scaler.transform(X_test)"
   ]
  },
  {
   "cell_type": "code",
   "execution_count": 9,
   "metadata": {
    "id": "SK-Jh7KfJC-K",
    "outputId": "cdc5f736-218e-4cfe-f1f2-b33ccf280018",
    "scrolled": true
   },
   "outputs": [
    {
     "name": "stdout",
     "output_type": "stream",
     "text": [
      "X_train_scaled : (272448, 44)\n",
      "X_test_scaled : (116764, 44)\n",
      "y_train : (272448,)\n",
      "y_test : (116764,)\n"
     ]
    }
   ],
   "source": [
    "print('X_train_scaled :', X_train_scaled.shape)\n",
    "print('X_test_scaled :', X_test_scaled.shape)\n",
    "print('y_train :', y_train.shape)\n",
    "print('y_test :', y_test.shape)"
   ]
  },
  {
   "cell_type": "markdown",
   "metadata": {
    "id": "5HDXeMv_JC-M"
   },
   "source": [
    "### 3. 모델 빌딩 (XG Boost) "
   ]
  },
  {
   "cell_type": "code",
   "execution_count": 10,
   "metadata": {
    "id": "eWXBvJF1JC-M"
   },
   "outputs": [],
   "source": [
    "import xgboost as xgb\n",
    "from sklearn.metrics import mean_squared_error"
   ]
  },
  {
   "cell_type": "code",
   "execution_count": 11,
   "metadata": {
    "id": "bCL9ziKuJC-P"
   },
   "outputs": [],
   "source": [
    "xg_reg = xgb.XGBRegressor()"
   ]
  },
  {
   "cell_type": "code",
   "execution_count": 12,
   "metadata": {
    "id": "XFuAPEkIJC-R",
    "outputId": "bb6d08fe-0a58-4f6d-8b34-072a56295fd2"
   },
   "outputs": [
    {
     "data": {
      "text/plain": [
       "array([54.16211 , 62.25335 , 63.61414 , ..., 48.80581 , 57.612976,\n",
       "       58.14867 ], dtype=float32)"
      ]
     },
     "execution_count": 12,
     "metadata": {},
     "output_type": "execute_result"
    }
   ],
   "source": [
    "xg_reg.fit(X_train_scaled,y_train)\n",
    "\n",
    "preds = xg_reg.predict(X_test_scaled)\n",
    "preds"
   ]
  },
  {
   "cell_type": "code",
   "execution_count": 13,
   "metadata": {},
   "outputs": [
    {
     "name": "stdout",
     "output_type": "stream",
     "text": [
      "예측 최대치:  76.41382\n",
      "예측 최저치:  45.00347\n"
     ]
    }
   ],
   "source": [
    "print('예측 최대치: ', preds.max())\n",
    "print('예측 최저치: ', preds.min())"
   ]
  },
  {
   "cell_type": "markdown",
   "metadata": {
    "id": "6FfU7-oxJC-T"
   },
   "source": [
    "### 4. 성능 확인 (RMSE, Accuracy)"
   ]
  },
  {
   "cell_type": "code",
   "execution_count": 14,
   "metadata": {
    "id": "cWkN2cZPJC-U",
    "outputId": "cead4734-8aa4-414b-8444-3ade3373175e"
   },
   "outputs": [
    {
     "name": "stdout",
     "output_type": "stream",
     "text": [
      "RMSE: 2.167105\n"
     ]
    }
   ],
   "source": [
    "rmse = np.sqrt(mean_squared_error(y_test, preds))\n",
    "print(\"RMSE: %f\" % (rmse))"
   ]
  },
  {
   "cell_type": "code",
   "execution_count": 15,
   "metadata": {
    "id": "Hfms9IseJC-Y",
    "outputId": "0bfe3fd5-38f1-48e3-8dd4-3e5e96284121",
    "scrolled": true
   },
   "outputs": [
    {
     "name": "stdout",
     "output_type": "stream",
     "text": [
      "[ XG Boost Regression ]\n",
      "훈련 세트의 정확도 : 93.58 %\n",
      "테스트 세트의 정확도 : 93.56 %\n"
     ]
    }
   ],
   "source": [
    "print('[ XG Boost Regression ]')\n",
    "print(\"훈련 세트의 정확도 : {:.2f}\".format(xg_reg.score(X_train_scaled, y_train)*100), '%')\n",
    "print(\"테스트 세트의 정확도 : {:.2f}\".format(xg_reg.score(X_test_scaled, y_test)*100), '%')"
   ]
  },
  {
   "cell_type": "markdown",
   "metadata": {
    "id": "OX6x0LKAJC-a"
   },
   "source": [
    "### 5. 파라메터 조정으로 성능을 높여보자 !"
   ]
  },
  {
   "cell_type": "code",
   "execution_count": 16,
   "metadata": {
    "id": "oRxtEJgmJC-a"
   },
   "outputs": [],
   "source": [
    "from sklearn import preprocessing\n",
    "import xgboost as xgb\n",
    "from xgboost.sklearn import XGBRegressor\n",
    "import datetime\n",
    "from sklearn.model_selection import GridSearchCV"
   ]
  },
  {
   "cell_type": "code",
   "execution_count": 17,
   "metadata": {
    "id": "QwrN1V4yJC-c"
   },
   "outputs": [],
   "source": [
    "xgb1 = XGBRegressor()\n",
    "parameters = {'nthread':[4,5], #when use hyperthread, xgboost may become slower\n",
    "              'objective':['reg:linear'],\n",
    "              'learning_rate': [.03, 0.05, .07], #so called `eta` value\n",
    "              'max_depth': [5, 6, 7],\n",
    "              'min_child_weight': [4],\n",
    "              'silent': [1],\n",
    "              'subsample': [0.7],\n",
    "              'colsample_bytree': [0.7],\n",
    "              'n_estimators': [800]}"
   ]
  },
  {
   "cell_type": "code",
   "execution_count": 18,
   "metadata": {
    "id": "gzYdzPFLJC-f"
   },
   "outputs": [],
   "source": [
    "xgb_grid = GridSearchCV(xgb1,\n",
    "                        parameters,\n",
    "                        cv = 2,\n",
    "                        n_jobs = 5,\n",
    "                        verbose=True)"
   ]
  },
  {
   "cell_type": "code",
   "execution_count": 19,
   "metadata": {
    "id": "l5lK-fhHJC-h",
    "outputId": "d8799d9a-9e5a-4355-c827-0ba489bb522f",
    "scrolled": true
   },
   "outputs": [
    {
     "name": "stdout",
     "output_type": "stream",
     "text": [
      "Fitting 2 folds for each of 18 candidates, totalling 36 fits\n"
     ]
    },
    {
     "name": "stderr",
     "output_type": "stream",
     "text": [
      "[Parallel(n_jobs=5)]: Using backend LokyBackend with 5 concurrent workers.\n",
      "[Parallel(n_jobs=5)]: Done  36 out of  36 | elapsed: 42.4min finished\n"
     ]
    },
    {
     "data": {
      "text/plain": [
       "GridSearchCV(cv=2, error_score='raise-deprecating',\n",
       "             estimator=XGBRegressor(base_score=None, booster=None,\n",
       "                                    colsample_bylevel=None,\n",
       "                                    colsample_bynode=None,\n",
       "                                    colsample_bytree=None, gamma=None,\n",
       "                                    gpu_id=None, importance_type='gain',\n",
       "                                    interaction_constraints=None,\n",
       "                                    learning_rate=None, max_delta_step=None,\n",
       "                                    max_depth=None, min_child_weight=None,\n",
       "                                    missing=nan, monotone_constrain...\n",
       "                                    validate_parameters=False, verbosity=None),\n",
       "             iid='warn', n_jobs=5,\n",
       "             param_grid={'colsample_bytree': [0.7],\n",
       "                         'learning_rate': [0.03, 0.05, 0.07],\n",
       "                         'max_depth': [5, 6, 7], 'min_child_weight': [4],\n",
       "                         'n_estimators': [800], 'nthread': [4, 5],\n",
       "                         'objective': ['reg:linear'], 'silent': [1],\n",
       "                         'subsample': [0.7]},\n",
       "             pre_dispatch='2*n_jobs', refit=True, return_train_score=False,\n",
       "             scoring=None, verbose=True)"
      ]
     },
     "execution_count": 19,
     "metadata": {},
     "output_type": "execute_result"
    }
   ],
   "source": [
    "xgb_grid.fit(X_train_scaled, y_train)"
   ]
  },
  {
   "cell_type": "code",
   "execution_count": 20,
   "metadata": {
    "id": "uLI53v81JC-k",
    "outputId": "4d43e84d-b34c-4535-f654-d87b09b825ed"
   },
   "outputs": [
    {
     "name": "stdout",
     "output_type": "stream",
     "text": [
      "0.9356738268884038\n",
      "{'colsample_bytree': 0.7, 'learning_rate': 0.07, 'max_depth': 7, 'min_child_weight': 4, 'n_estimators': 800, 'nthread': 4, 'objective': 'reg:linear', 'silent': 1, 'subsample': 0.7}\n"
     ]
    }
   ],
   "source": [
    "print(xgb_grid.best_score_)\n",
    "print(xgb_grid.best_params_)"
   ]
  },
  {
   "cell_type": "code",
   "execution_count": 21,
   "metadata": {
    "id": "Ig6IPVRXJC-m"
   },
   "outputs": [],
   "source": [
    "model_upgrade = XGBRegressor(colsample_bytree= 0.7, \n",
    "                             learning_rate= 0.07, \n",
    "                             max_depth= 7, \n",
    "                             min_child_weight= 4, \n",
    "                             n_estimators= 500, \n",
    "                             nthread= 4, \n",
    "                             objective= 'reg:linear', \n",
    "                             silent= 1, \n",
    "                             subsample= 0.7)"
   ]
  },
  {
   "cell_type": "code",
   "execution_count": 24,
   "metadata": {
    "id": "YwUYGbJIJC-o",
    "outputId": "c8b37616-bdd5-4655-f4b3-df50956d9d57"
   },
   "outputs": [
    {
     "name": "stdout",
     "output_type": "stream",
     "text": [
      "훈련 세트의 정확도 : 93.577 %\n",
      "테스트 세트의 정확도 : 93.556 %\n"
     ]
    }
   ],
   "source": [
    "model_upgrade.fit(X_train_scaled, y_train)\n",
    "\n",
    "# accuracy\n",
    "print(\"훈련 세트의 정확도 : {:.3f}\".format(model_upgrade.score(X_train_scaled, y_train)*100), '%')\n",
    "print(\"테스트 세트의 정확도 : {:.3f}\".format(model_upgrade.score(X_test_scaled, y_test)*100), '%')"
   ]
  },
  {
   "cell_type": "markdown",
   "metadata": {},
   "source": [
    "### 필요한 공부\n",
    "\n",
    "1. score()함수가 어떤 스코어인지 확인할 필요가 있다.\n",
    "2. mape(mean absolute percentage error)로 성능을 평가해 볼 필요가 있다.\n",
    "3. 그 외 다른 평가 방법을 찾아볼 필요가 있다."
   ]
  },
  {
   "cell_type": "markdown",
   "metadata": {
    "id": "vD3AfRtcJC-q"
   },
   "source": [
    "### ========= 20개 변수 =========="
   ]
  },
  {
   "cell_type": "markdown",
   "metadata": {
    "id": "wWju6Z9ZJC-q"
   },
   "source": [
    "###  1. 종속변수, 독립변수 나누기"
   ]
  },
  {
   "cell_type": "code",
   "execution_count": null,
   "metadata": {
    "id": "-WCfWLYRJC-r"
   },
   "outputs": [],
   "source": [
    "X_20 = data.drop(['LEQ',\n",
    "                      '3번신호등', '도로명', '2번신호등', '237번신호등', '23번신호등',\n",
    "                       '교통사고_인구 10만명당 사망자수', '국지도로', '구', '집산도로', '간선도로', \n",
    "                       '소음배출시설_면적 합', '교통사고_인구 10만명당 부상자수',\n",
    "                       '교통사고_사망자수', '우울감 경험률', '연간 고위험음주율', \n",
    "                       '교통사고_자동차 1만대당 발생건수', '면적', '인구밀도(명/㎢)', \n",
    "                       '현재흡연율', '비만율', '스트레스 인지율', '요일별통행속도평균',\n",
    "                       '양호한 주관적 건강수준 인지율', '월간음주율'], axis=1)\n",
    "y = data.LEQ"
   ]
  },
  {
   "cell_type": "code",
   "execution_count": null,
   "metadata": {
    "id": "zi-5b6vAJC-t",
    "outputId": "117bb72d-9c81-4d20-be4e-1ce2d3d3bdb1"
   },
   "outputs": [
    {
     "data": {
      "text/plain": [
       "Index(['용도구분', '법적구분', '도로폭', '도로규모', 'lng_x', 'lat_x', '7번신호등', '27번신호등',\n",
       "       '37번신호등', '모든신호등', 'camera', '교통사고_발생건수', '교통사고_부상자수', '인구',\n",
       "       '소음배출시설_개소 합', '금연시도율', '증등도 이상 신체활동 실천율', '걷기실천율', '가로녹시율평균',\n",
       "       '보조간선도로'],\n",
       "      dtype='object')"
      ]
     },
     "execution_count": 183,
     "metadata": {
      "tags": []
     },
     "output_type": "execute_result"
    }
   ],
   "source": [
    "X_20.columns"
   ]
  },
  {
   "cell_type": "code",
   "execution_count": null,
   "metadata": {
    "id": "i2We7gFtJC-v",
    "outputId": "c47a3b0f-3adb-4815-b794-7f8b5a23f07d"
   },
   "outputs": [
    {
     "data": {
      "text/html": [
       "<div>\n",
       "<style scoped>\n",
       "    .dataframe tbody tr th:only-of-type {\n",
       "        vertical-align: middle;\n",
       "    }\n",
       "\n",
       "    .dataframe tbody tr th {\n",
       "        vertical-align: top;\n",
       "    }\n",
       "\n",
       "    .dataframe thead th {\n",
       "        text-align: right;\n",
       "    }\n",
       "</style>\n",
       "<table border=\"1\" class=\"dataframe\">\n",
       "  <thead>\n",
       "    <tr style=\"text-align: right;\">\n",
       "      <th></th>\n",
       "      <th>용도구분</th>\n",
       "      <th>법적구분</th>\n",
       "      <th>도로폭</th>\n",
       "      <th>도로명</th>\n",
       "      <th>도로규모</th>\n",
       "      <th>구</th>\n",
       "      <th>lng_x</th>\n",
       "      <th>lat_x</th>\n",
       "      <th>LEQ</th>\n",
       "      <th>2번신호등</th>\n",
       "      <th>...</th>\n",
       "      <th>비만율</th>\n",
       "      <th>스트레스 인지율</th>\n",
       "      <th>우울감 경험률</th>\n",
       "      <th>양호한 주관적 건강수준 인지율</th>\n",
       "      <th>가로녹시율평균</th>\n",
       "      <th>간선도로</th>\n",
       "      <th>보조간선도로</th>\n",
       "      <th>집산도로</th>\n",
       "      <th>국지도로</th>\n",
       "      <th>요일별통행속도평균</th>\n",
       "    </tr>\n",
       "  </thead>\n",
       "  <tbody>\n",
       "    <tr>\n",
       "      <td>0</td>\n",
       "      <td>1</td>\n",
       "      <td>2</td>\n",
       "      <td>6</td>\n",
       "      <td>92</td>\n",
       "      <td>4</td>\n",
       "      <td>20</td>\n",
       "      <td>126.981299</td>\n",
       "      <td>37.573645</td>\n",
       "      <td>54.666667</td>\n",
       "      <td>0</td>\n",
       "      <td>...</td>\n",
       "      <td>26.085714</td>\n",
       "      <td>28.885714</td>\n",
       "      <td>7.557143</td>\n",
       "      <td>44.242857</td>\n",
       "      <td>19.471667</td>\n",
       "      <td>21.636667</td>\n",
       "      <td>29.311667</td>\n",
       "      <td>16.395000</td>\n",
       "      <td>10.548333</td>\n",
       "      <td>23.300000</td>\n",
       "    </tr>\n",
       "    <tr>\n",
       "      <td>1</td>\n",
       "      <td>1</td>\n",
       "      <td>2</td>\n",
       "      <td>6</td>\n",
       "      <td>92</td>\n",
       "      <td>4</td>\n",
       "      <td>20</td>\n",
       "      <td>126.981299</td>\n",
       "      <td>37.573645</td>\n",
       "      <td>52.166667</td>\n",
       "      <td>0</td>\n",
       "      <td>...</td>\n",
       "      <td>26.085714</td>\n",
       "      <td>28.885714</td>\n",
       "      <td>7.557143</td>\n",
       "      <td>44.242857</td>\n",
       "      <td>19.471667</td>\n",
       "      <td>21.636667</td>\n",
       "      <td>29.311667</td>\n",
       "      <td>16.395000</td>\n",
       "      <td>10.548333</td>\n",
       "      <td>23.300000</td>\n",
       "    </tr>\n",
       "    <tr>\n",
       "      <td>2</td>\n",
       "      <td>1</td>\n",
       "      <td>2</td>\n",
       "      <td>6</td>\n",
       "      <td>92</td>\n",
       "      <td>4</td>\n",
       "      <td>20</td>\n",
       "      <td>126.981299</td>\n",
       "      <td>37.573645</td>\n",
       "      <td>54.166667</td>\n",
       "      <td>0</td>\n",
       "      <td>...</td>\n",
       "      <td>26.085714</td>\n",
       "      <td>28.885714</td>\n",
       "      <td>7.557143</td>\n",
       "      <td>44.242857</td>\n",
       "      <td>19.471667</td>\n",
       "      <td>21.636667</td>\n",
       "      <td>29.311667</td>\n",
       "      <td>16.395000</td>\n",
       "      <td>10.548333</td>\n",
       "      <td>23.300000</td>\n",
       "    </tr>\n",
       "    <tr>\n",
       "      <td>3</td>\n",
       "      <td>1</td>\n",
       "      <td>2</td>\n",
       "      <td>6</td>\n",
       "      <td>92</td>\n",
       "      <td>4</td>\n",
       "      <td>20</td>\n",
       "      <td>126.981299</td>\n",
       "      <td>37.573645</td>\n",
       "      <td>52.833333</td>\n",
       "      <td>0</td>\n",
       "      <td>...</td>\n",
       "      <td>26.085714</td>\n",
       "      <td>28.885714</td>\n",
       "      <td>7.557143</td>\n",
       "      <td>44.242857</td>\n",
       "      <td>19.471667</td>\n",
       "      <td>21.636667</td>\n",
       "      <td>29.311667</td>\n",
       "      <td>16.395000</td>\n",
       "      <td>10.548333</td>\n",
       "      <td>23.300000</td>\n",
       "    </tr>\n",
       "    <tr>\n",
       "      <td>4</td>\n",
       "      <td>1</td>\n",
       "      <td>2</td>\n",
       "      <td>0</td>\n",
       "      <td>96</td>\n",
       "      <td>1</td>\n",
       "      <td>20</td>\n",
       "      <td>126.983676</td>\n",
       "      <td>37.573718</td>\n",
       "      <td>54.666667</td>\n",
       "      <td>5</td>\n",
       "      <td>...</td>\n",
       "      <td>26.085714</td>\n",
       "      <td>28.885714</td>\n",
       "      <td>7.557143</td>\n",
       "      <td>44.242857</td>\n",
       "      <td>19.471667</td>\n",
       "      <td>21.636667</td>\n",
       "      <td>29.311667</td>\n",
       "      <td>16.395000</td>\n",
       "      <td>10.548333</td>\n",
       "      <td>23.300000</td>\n",
       "    </tr>\n",
       "    <tr>\n",
       "      <td>...</td>\n",
       "      <td>...</td>\n",
       "      <td>...</td>\n",
       "      <td>...</td>\n",
       "      <td>...</td>\n",
       "      <td>...</td>\n",
       "      <td>...</td>\n",
       "      <td>...</td>\n",
       "      <td>...</td>\n",
       "      <td>...</td>\n",
       "      <td>...</td>\n",
       "      <td>...</td>\n",
       "      <td>...</td>\n",
       "      <td>...</td>\n",
       "      <td>...</td>\n",
       "      <td>...</td>\n",
       "      <td>...</td>\n",
       "      <td>...</td>\n",
       "      <td>...</td>\n",
       "      <td>...</td>\n",
       "      <td>...</td>\n",
       "      <td>...</td>\n",
       "    </tr>\n",
       "    <tr>\n",
       "      <td>389207</td>\n",
       "      <td>7</td>\n",
       "      <td>0</td>\n",
       "      <td>0</td>\n",
       "      <td>17</td>\n",
       "      <td>1</td>\n",
       "      <td>0</td>\n",
       "      <td>127.054344</td>\n",
       "      <td>37.490652</td>\n",
       "      <td>74.420000</td>\n",
       "      <td>4</td>\n",
       "      <td>...</td>\n",
       "      <td>21.285714</td>\n",
       "      <td>30.400000</td>\n",
       "      <td>6.814286</td>\n",
       "      <td>50.714286</td>\n",
       "      <td>37.266667</td>\n",
       "      <td>41.136667</td>\n",
       "      <td>37.448333</td>\n",
       "      <td>39.736667</td>\n",
       "      <td>30.750000</td>\n",
       "      <td>24.683333</td>\n",
       "    </tr>\n",
       "    <tr>\n",
       "      <td>389208</td>\n",
       "      <td>7</td>\n",
       "      <td>0</td>\n",
       "      <td>0</td>\n",
       "      <td>17</td>\n",
       "      <td>1</td>\n",
       "      <td>0</td>\n",
       "      <td>127.054344</td>\n",
       "      <td>37.490652</td>\n",
       "      <td>74.670000</td>\n",
       "      <td>4</td>\n",
       "      <td>...</td>\n",
       "      <td>21.285714</td>\n",
       "      <td>30.400000</td>\n",
       "      <td>6.814286</td>\n",
       "      <td>50.714286</td>\n",
       "      <td>37.266667</td>\n",
       "      <td>41.136667</td>\n",
       "      <td>37.448333</td>\n",
       "      <td>39.736667</td>\n",
       "      <td>30.750000</td>\n",
       "      <td>24.683333</td>\n",
       "    </tr>\n",
       "    <tr>\n",
       "      <td>389209</td>\n",
       "      <td>7</td>\n",
       "      <td>0</td>\n",
       "      <td>0</td>\n",
       "      <td>17</td>\n",
       "      <td>1</td>\n",
       "      <td>0</td>\n",
       "      <td>127.054344</td>\n",
       "      <td>37.490652</td>\n",
       "      <td>74.410000</td>\n",
       "      <td>4</td>\n",
       "      <td>...</td>\n",
       "      <td>21.285714</td>\n",
       "      <td>30.400000</td>\n",
       "      <td>6.814286</td>\n",
       "      <td>50.714286</td>\n",
       "      <td>37.266667</td>\n",
       "      <td>41.136667</td>\n",
       "      <td>37.448333</td>\n",
       "      <td>39.736667</td>\n",
       "      <td>30.750000</td>\n",
       "      <td>24.683333</td>\n",
       "    </tr>\n",
       "    <tr>\n",
       "      <td>389210</td>\n",
       "      <td>7</td>\n",
       "      <td>0</td>\n",
       "      <td>0</td>\n",
       "      <td>17</td>\n",
       "      <td>1</td>\n",
       "      <td>0</td>\n",
       "      <td>127.054344</td>\n",
       "      <td>37.490652</td>\n",
       "      <td>73.920000</td>\n",
       "      <td>4</td>\n",
       "      <td>...</td>\n",
       "      <td>21.285714</td>\n",
       "      <td>30.400000</td>\n",
       "      <td>6.814286</td>\n",
       "      <td>50.714286</td>\n",
       "      <td>37.266667</td>\n",
       "      <td>41.136667</td>\n",
       "      <td>37.448333</td>\n",
       "      <td>39.736667</td>\n",
       "      <td>30.750000</td>\n",
       "      <td>24.683333</td>\n",
       "    </tr>\n",
       "    <tr>\n",
       "      <td>389211</td>\n",
       "      <td>7</td>\n",
       "      <td>0</td>\n",
       "      <td>0</td>\n",
       "      <td>17</td>\n",
       "      <td>1</td>\n",
       "      <td>0</td>\n",
       "      <td>127.054344</td>\n",
       "      <td>37.490652</td>\n",
       "      <td>74.250000</td>\n",
       "      <td>4</td>\n",
       "      <td>...</td>\n",
       "      <td>21.285714</td>\n",
       "      <td>30.400000</td>\n",
       "      <td>6.814286</td>\n",
       "      <td>50.714286</td>\n",
       "      <td>37.266667</td>\n",
       "      <td>41.136667</td>\n",
       "      <td>37.448333</td>\n",
       "      <td>39.736667</td>\n",
       "      <td>30.750000</td>\n",
       "      <td>24.683333</td>\n",
       "    </tr>\n",
       "  </tbody>\n",
       "</table>\n",
       "<p>389212 rows × 45 columns</p>\n",
       "</div>"
      ],
      "text/plain": [
       "        용도구분  법적구분  도로폭  도로명  도로규모   구       lng_x      lat_x        LEQ  \\\n",
       "0          1     2    6   92     4  20  126.981299  37.573645  54.666667   \n",
       "1          1     2    6   92     4  20  126.981299  37.573645  52.166667   \n",
       "2          1     2    6   92     4  20  126.981299  37.573645  54.166667   \n",
       "3          1     2    6   92     4  20  126.981299  37.573645  52.833333   \n",
       "4          1     2    0   96     1  20  126.983676  37.573718  54.666667   \n",
       "...      ...   ...  ...  ...   ...  ..         ...        ...        ...   \n",
       "389207     7     0    0   17     1   0  127.054344  37.490652  74.420000   \n",
       "389208     7     0    0   17     1   0  127.054344  37.490652  74.670000   \n",
       "389209     7     0    0   17     1   0  127.054344  37.490652  74.410000   \n",
       "389210     7     0    0   17     1   0  127.054344  37.490652  73.920000   \n",
       "389211     7     0    0   17     1   0  127.054344  37.490652  74.250000   \n",
       "\n",
       "        2번신호등  ...        비만율   스트레스 인지율   우울감 경험률  양호한 주관적 건강수준 인지율  \\\n",
       "0           0  ...  26.085714  28.885714  7.557143         44.242857   \n",
       "1           0  ...  26.085714  28.885714  7.557143         44.242857   \n",
       "2           0  ...  26.085714  28.885714  7.557143         44.242857   \n",
       "3           0  ...  26.085714  28.885714  7.557143         44.242857   \n",
       "4           5  ...  26.085714  28.885714  7.557143         44.242857   \n",
       "...       ...  ...        ...        ...       ...               ...   \n",
       "389207      4  ...  21.285714  30.400000  6.814286         50.714286   \n",
       "389208      4  ...  21.285714  30.400000  6.814286         50.714286   \n",
       "389209      4  ...  21.285714  30.400000  6.814286         50.714286   \n",
       "389210      4  ...  21.285714  30.400000  6.814286         50.714286   \n",
       "389211      4  ...  21.285714  30.400000  6.814286         50.714286   \n",
       "\n",
       "          가로녹시율평균       간선도로     보조간선도로       집산도로       국지도로  요일별통행속도평균  \n",
       "0       19.471667  21.636667  29.311667  16.395000  10.548333  23.300000  \n",
       "1       19.471667  21.636667  29.311667  16.395000  10.548333  23.300000  \n",
       "2       19.471667  21.636667  29.311667  16.395000  10.548333  23.300000  \n",
       "3       19.471667  21.636667  29.311667  16.395000  10.548333  23.300000  \n",
       "4       19.471667  21.636667  29.311667  16.395000  10.548333  23.300000  \n",
       "...           ...        ...        ...        ...        ...        ...  \n",
       "389207  37.266667  41.136667  37.448333  39.736667  30.750000  24.683333  \n",
       "389208  37.266667  41.136667  37.448333  39.736667  30.750000  24.683333  \n",
       "389209  37.266667  41.136667  37.448333  39.736667  30.750000  24.683333  \n",
       "389210  37.266667  41.136667  37.448333  39.736667  30.750000  24.683333  \n",
       "389211  37.266667  41.136667  37.448333  39.736667  30.750000  24.683333  \n",
       "\n",
       "[389212 rows x 45 columns]"
      ]
     },
     "execution_count": 198,
     "metadata": {
      "tags": []
     },
     "output_type": "execute_result"
    }
   ],
   "source": [
    "data"
   ]
  },
  {
   "cell_type": "markdown",
   "metadata": {
    "id": "HTke5Y_wJC-x"
   },
   "source": [
    "### 2. train, test split"
   ]
  },
  {
   "cell_type": "code",
   "execution_count": null,
   "metadata": {
    "id": "gTwiAPYbJC-y"
   },
   "outputs": [],
   "source": [
    "from sklearn.model_selection import train_test_split\n",
    "\n",
    "X_train, X_test, y_train, y_test = train_test_split(X_20, y, test_size=.3,\n",
    "                                                    random_state=0)"
   ]
  },
  {
   "cell_type": "code",
   "execution_count": null,
   "metadata": {
    "id": "J3g5BwHKJC-z",
    "outputId": "e18d0404-b6b6-4c3c-d7f1-d1a8a1366e61",
    "scrolled": true
   },
   "outputs": [
    {
     "name": "stdout",
     "output_type": "stream",
     "text": [
      "X_train : (272448, 20)\n",
      "X_test : (116764, 20)\n",
      "y_train : (272448,)\n",
      "y_test : (116764,)\n"
     ]
    }
   ],
   "source": [
    "print('X_train :', X_train.shape)\n",
    "print('X_test :', X_test.shape)\n",
    "print('y_train :', y_train.shape)\n",
    "print('y_test :', y_test.shape)"
   ]
  },
  {
   "cell_type": "markdown",
   "metadata": {
    "id": "eXV5I7giJC-1"
   },
   "source": [
    "### 2. Scale 해주기"
   ]
  },
  {
   "cell_type": "code",
   "execution_count": 3,
   "metadata": {
    "colab": {
     "base_uri": "https://localhost:8080/",
     "height": 239
    },
    "executionInfo": {
     "elapsed": 1531,
     "status": "error",
     "timestamp": 1609570612697,
     "user": {
      "displayName": "정예울",
      "photoUrl": "",
      "userId": "13469347784884954648"
     },
     "user_tz": -540
    },
    "id": "ZKL-19qPJC-2",
    "outputId": "18609cb1-5306-48de-dc21-460edb167d75"
   },
   "outputs": [
    {
     "ename": "NameError",
     "evalue": "ignored",
     "output_type": "error",
     "traceback": [
      "\u001b[0;31m---------------------------------------------------------------------------\u001b[0m",
      "\u001b[0;31mNameError\u001b[0m                                 Traceback (most recent call last)",
      "\u001b[0;32m<ipython-input-3-4a21a24e4c85>\u001b[0m in \u001b[0;36m<module>\u001b[0;34m()\u001b[0m\n\u001b[1;32m      1\u001b[0m \u001b[0;32mfrom\u001b[0m \u001b[0msklearn\u001b[0m\u001b[0;34m.\u001b[0m\u001b[0mpreprocessing\u001b[0m \u001b[0;32mimport\u001b[0m \u001b[0mStandardScaler\u001b[0m\u001b[0;34m\u001b[0m\u001b[0;34m\u001b[0m\u001b[0m\n\u001b[0;32m----> 2\u001b[0;31m \u001b[0mst_scaler\u001b[0m \u001b[0;34m=\u001b[0m \u001b[0mStandardScaler\u001b[0m\u001b[0;34m(\u001b[0m\u001b[0;34m)\u001b[0m\u001b[0;34m.\u001b[0m\u001b[0mfit\u001b[0m\u001b[0;34m(\u001b[0m\u001b[0mX_train\u001b[0m\u001b[0;34m)\u001b[0m\u001b[0;34m\u001b[0m\u001b[0;34m\u001b[0m\u001b[0m\n\u001b[0m\u001b[1;32m      3\u001b[0m \u001b[0;34m\u001b[0m\u001b[0m\n\u001b[1;32m      4\u001b[0m \u001b[0;31m# 적용\u001b[0m\u001b[0;34m\u001b[0m\u001b[0;34m\u001b[0m\u001b[0;34m\u001b[0m\u001b[0m\n\u001b[1;32m      5\u001b[0m \u001b[0mX_train_scaled\u001b[0m \u001b[0;34m=\u001b[0m \u001b[0mst_scaler\u001b[0m\u001b[0;34m.\u001b[0m\u001b[0mtransform\u001b[0m\u001b[0;34m(\u001b[0m\u001b[0mX_train\u001b[0m\u001b[0;34m)\u001b[0m\u001b[0;34m\u001b[0m\u001b[0;34m\u001b[0m\u001b[0m\n",
      "\u001b[0;31mNameError\u001b[0m: name 'X_train' is not defined"
     ]
    }
   ],
   "source": [
    "from sklearn.preprocessing import StandardScaler\n",
    "st_scaler = StandardScaler().fit(X_train)\n",
    "\n",
    "# 적용\n",
    "X_train_scaled = st_scaler.transform(X_train)\n",
    "X_test_scaled = st_scaler.transform(X_test)"
   ]
  },
  {
   "cell_type": "code",
   "execution_count": null,
   "metadata": {
    "executionInfo": {
     "elapsed": 1521,
     "status": "aborted",
     "timestamp": 1609570612695,
     "user": {
      "displayName": "정예울",
      "photoUrl": "",
      "userId": "13469347784884954648"
     },
     "user_tz": -540
    },
    "id": "bPCFFVKYJC-7",
    "scrolled": true
   },
   "outputs": [],
   "source": [
    "print('X_train_scaled :', X_train_scaled.shape)\n",
    "print('X_test_scaled :', X_test_scaled.shape)\n",
    "print('y_train :', y_train.shape)\n",
    "print('y_test :', y_test.shape)"
   ]
  },
  {
   "cell_type": "markdown",
   "metadata": {
    "id": "zO5iXsQAJC-8"
   },
   "source": [
    "### 3. 모델 빌딩 (XG Boost) "
   ]
  },
  {
   "cell_type": "code",
   "execution_count": null,
   "metadata": {
    "id": "uAOu4kYGJC-9"
   },
   "outputs": [],
   "source": [
    "import xgboost as xgb\n",
    "from sklearn.metrics import mean_squared_error"
   ]
  },
  {
   "cell_type": "code",
   "execution_count": null,
   "metadata": {
    "id": "XCmvVyn2JC-_"
   },
   "outputs": [],
   "source": [
    "xg_reg = xgb.XGBRegressor()"
   ]
  },
  {
   "cell_type": "code",
   "execution_count": null,
   "metadata": {
    "id": "JnP0YNPxJC_B",
    "outputId": "24ba8776-0de7-495e-90c6-b40aa4774c2a"
   },
   "outputs": [
    {
     "data": {
      "text/plain": [
       "array([54.15883 , 62.25331 , 63.612305, ..., 48.80572 , 57.612633,\n",
       "       58.149544], dtype=float32)"
      ]
     },
     "execution_count": 190,
     "metadata": {
      "tags": []
     },
     "output_type": "execute_result"
    }
   ],
   "source": [
    "xg_reg.fit(X_train_scaled,y_train)\n",
    "\n",
    "preds = xg_reg.predict(X_test_scaled)\n",
    "preds"
   ]
  },
  {
   "cell_type": "markdown",
   "metadata": {
    "id": "eyY2cMCvJC_C"
   },
   "source": [
    "### 4. 성능 확인 (RMSE, Accuracy)"
   ]
  },
  {
   "cell_type": "code",
   "execution_count": 1,
   "metadata": {
    "colab": {
     "base_uri": "https://localhost:8080/",
     "height": 186
    },
    "executionInfo": {
     "elapsed": 833,
     "status": "error",
     "timestamp": 1609570608997,
     "user": {
      "displayName": "정예울",
      "photoUrl": "",
      "userId": "13469347784884954648"
     },
     "user_tz": -540
    },
    "id": "o3VrxwKLJC_D",
    "outputId": "6e2096d7-4653-4412-cb5a-f8e7842c6f27"
   },
   "outputs": [
    {
     "ename": "NameError",
     "evalue": "ignored",
     "output_type": "error",
     "traceback": [
      "\u001b[0;31m---------------------------------------------------------------------------\u001b[0m",
      "\u001b[0;31mNameError\u001b[0m                                 Traceback (most recent call last)",
      "\u001b[0;32m<ipython-input-1-1e7873dc9209>\u001b[0m in \u001b[0;36m<module>\u001b[0;34m()\u001b[0m\n\u001b[0;32m----> 1\u001b[0;31m \u001b[0mrmse\u001b[0m \u001b[0;34m=\u001b[0m \u001b[0mnp\u001b[0m\u001b[0;34m.\u001b[0m\u001b[0msqrt\u001b[0m\u001b[0;34m(\u001b[0m\u001b[0mmean_squared_error\u001b[0m\u001b[0;34m(\u001b[0m\u001b[0my_test\u001b[0m\u001b[0;34m,\u001b[0m \u001b[0mpreds\u001b[0m\u001b[0;34m)\u001b[0m\u001b[0;34m)\u001b[0m\u001b[0;34m\u001b[0m\u001b[0;34m\u001b[0m\u001b[0m\n\u001b[0m\u001b[1;32m      2\u001b[0m \u001b[0mprint\u001b[0m\u001b[0;34m(\u001b[0m\u001b[0;34m\"RMSE: %f\"\u001b[0m \u001b[0;34m%\u001b[0m \u001b[0;34m(\u001b[0m\u001b[0mrmse\u001b[0m\u001b[0;34m)\u001b[0m\u001b[0;34m)\u001b[0m\u001b[0;34m\u001b[0m\u001b[0;34m\u001b[0m\u001b[0m\n",
      "\u001b[0;31mNameError\u001b[0m: name 'np' is not defined"
     ]
    }
   ],
   "source": [
    "rmse = np.sqrt(mean_squared_error(y_test, preds))\n",
    "print(\"RMSE: %f\" % (rmse))"
   ]
  },
  {
   "cell_type": "code",
   "execution_count": 2,
   "metadata": {
    "colab": {
     "base_uri": "https://localhost:8080/",
     "height": 222
    },
    "executionInfo": {
     "elapsed": 1159,
     "status": "error",
     "timestamp": 1609570609330,
     "user": {
      "displayName": "정예울",
      "photoUrl": "",
      "userId": "13469347784884954648"
     },
     "user_tz": -540
    },
    "id": "aTEXs_cfJC_F",
    "outputId": "a9133718-7256-4849-fe5a-56e7473f3d09",
    "scrolled": true
   },
   "outputs": [
    {
     "name": "stdout",
     "output_type": "stream",
     "text": [
      "[ XG Boost Regression ]\n"
     ]
    },
    {
     "ename": "NameError",
     "evalue": "ignored",
     "output_type": "error",
     "traceback": [
      "\u001b[0;31m---------------------------------------------------------------------------\u001b[0m",
      "\u001b[0;31mNameError\u001b[0m                                 Traceback (most recent call last)",
      "\u001b[0;32m<ipython-input-2-6b604d9826d5>\u001b[0m in \u001b[0;36m<module>\u001b[0;34m()\u001b[0m\n\u001b[1;32m      1\u001b[0m \u001b[0mprint\u001b[0m\u001b[0;34m(\u001b[0m\u001b[0;34m'[ XG Boost Regression ]'\u001b[0m\u001b[0;34m)\u001b[0m\u001b[0;34m\u001b[0m\u001b[0;34m\u001b[0m\u001b[0m\n\u001b[0;32m----> 2\u001b[0;31m \u001b[0mprint\u001b[0m\u001b[0;34m(\u001b[0m\u001b[0;34m\"훈련 세트의 정확도 : {:.2f}\"\u001b[0m\u001b[0;34m.\u001b[0m\u001b[0mformat\u001b[0m\u001b[0;34m(\u001b[0m\u001b[0mxg_reg\u001b[0m\u001b[0;34m.\u001b[0m\u001b[0mscore\u001b[0m\u001b[0;34m(\u001b[0m\u001b[0mX_train_scaled\u001b[0m\u001b[0;34m,\u001b[0m \u001b[0my_train\u001b[0m\u001b[0;34m)\u001b[0m\u001b[0;34m*\u001b[0m\u001b[0;36m100\u001b[0m\u001b[0;34m)\u001b[0m\u001b[0;34m,\u001b[0m \u001b[0;34m'%'\u001b[0m\u001b[0;34m)\u001b[0m\u001b[0;34m\u001b[0m\u001b[0;34m\u001b[0m\u001b[0m\n\u001b[0m\u001b[1;32m      3\u001b[0m \u001b[0mprint\u001b[0m\u001b[0;34m(\u001b[0m\u001b[0;34m\"테스트 세트의 정확도 : {:.2f}\"\u001b[0m\u001b[0;34m.\u001b[0m\u001b[0mformat\u001b[0m\u001b[0;34m(\u001b[0m\u001b[0mxg_reg\u001b[0m\u001b[0;34m.\u001b[0m\u001b[0mscore\u001b[0m\u001b[0;34m(\u001b[0m\u001b[0mX_test_scaled\u001b[0m\u001b[0;34m,\u001b[0m \u001b[0my_test\u001b[0m\u001b[0;34m)\u001b[0m\u001b[0;34m*\u001b[0m\u001b[0;36m100\u001b[0m\u001b[0;34m)\u001b[0m\u001b[0;34m,\u001b[0m \u001b[0;34m'%'\u001b[0m\u001b[0;34m)\u001b[0m\u001b[0;34m\u001b[0m\u001b[0;34m\u001b[0m\u001b[0m\n",
      "\u001b[0;31mNameError\u001b[0m: name 'xg_reg' is not defined"
     ]
    }
   ],
   "source": [
    "print('[ XG Boost Regression ]')\n",
    "print(\"훈련 세트의 정확도 : {:.2f}\".format(xg_reg.score(X_train_scaled, y_train)*100), '%')\n",
    "print(\"테스트 세트의 정확도 : {:.2f}\".format(xg_reg.score(X_test_scaled, y_test)*100), '%')"
   ]
  },
  {
   "cell_type": "markdown",
   "metadata": {
    "id": "LCcfOXb5JC_H"
   },
   "source": [
    "### 5. 파라메터 조정으로 성능을 높여보자 !"
   ]
  },
  {
   "cell_type": "code",
   "execution_count": null,
   "metadata": {
    "id": "XnN4P3d-JC_I"
   },
   "outputs": [],
   "source": [
    "from sklearn import preprocessing\n",
    "import xgboost as xgb\n",
    "from xgboost.sklearn import XGBRegressor\n",
    "import datetime\n",
    "from sklearn.model_selection import GridSearchCV\n",
    "\n",
    "model_upgrade = XGBRegressor(colsample_bytree= 0.7, \n",
    "                             learning_rate= 0.07, \n",
    "                             max_depth= 7, \n",
    "                             min_child_weight= 4, \n",
    "                             n_estimators= 800, \n",
    "                             nthread= 4, \n",
    "                             objective= 'reg:linear', \n",
    "                             silent= 1, \n",
    "                             subsample= 0.7)\n",
    "\n",
    "model_upgrade.fit(X_train_scaled, y_train)\n",
    "\n",
    "# accuracy\n",
    "print(\"훈련 세트의 정확도 : {:.3f}\".format(model_upgrade.score(X_train_scaled, y_train)*100), '%')\n",
    "print(\"테스트 세트의 정확도 : {:.3f}\".format(model_upgrade.score(X_test_scaled, y_test)*100), '%')"
   ]
  },
  {
   "cell_type": "code",
   "execution_count": null,
   "metadata": {
    "id": "phk1cBeKJC_K"
   },
   "outputs": [],
   "source": [
    "model_upgrade = XGBRegressor(colsample_bytree= 0.7, \n",
    "                             learning_rate= 0.07, \n",
    "                             max_depth= 7, \n",
    "                             min_child_weight= 4, \n",
    "                             n_estimators= 800, \n",
    "                             nthread= 4, \n",
    "                             objective= 'reg:linear', \n",
    "                             silent= 1, \n",
    "                             subsample= 0.7)"
   ]
  },
  {
   "cell_type": "code",
   "execution_count": null,
   "metadata": {
    "id": "hgrsF1EaJC_L",
    "outputId": "4ba66d57-3dcb-406b-8349-cf37051907c5"
   },
   "outputs": [
    {
     "name": "stdout",
     "output_type": "stream",
     "text": [
      "훈련 세트의 정확도 : 93.577 %\n",
      "테스트 세트의 정확도 : 93.555 %\n"
     ]
    }
   ],
   "source": [
    "model_upgrade.fit(X_train_scaled, y_train)\n",
    "\n",
    "# accuracy\n",
    "print(\"훈련 세트의 정확도 : {:.3f}\".format(model_upgrade.score(X_train_scaled, y_train)*100), '%')\n",
    "print(\"테스트 세트의 정확도 : {:.3f}\".format(model_upgrade.score(X_test_scaled, y_test)*100), '%')"
   ]
  },
  {
   "cell_type": "markdown",
   "metadata": {
    "id": "J-pwGxo6JC_O"
   },
   "source": [
    "#### 모델 저장"
   ]
  },
  {
   "cell_type": "code",
   "execution_count": null,
   "metadata": {
    "id": "VF76FYZIJC_O",
    "outputId": "c7c7bad1-9814-405f-cc7a-5b6b3035455c"
   },
   "outputs": [
    {
     "name": "stderr",
     "output_type": "stream",
     "text": [
      "C:\\Users\\yewoo\\Anaconda3\\lib\\site-packages\\sklearn\\externals\\joblib\\__init__.py:15: DeprecationWarning: sklearn.externals.joblib is deprecated in 0.21 and will be removed in 0.23. Please import this functionality directly from joblib, which can be installed with: pip install joblib. If this warning is raised when loading pickled models, you may need to re-serialize those models with scikit-learn 0.21+.\n",
      "  warnings.warn(msg, category=DeprecationWarning)\n"
     ]
    },
    {
     "data": {
      "text/plain": [
       "['model_upgrade.pkl']"
      ]
     },
     "execution_count": 195,
     "metadata": {
      "tags": []
     },
     "output_type": "execute_result"
    }
   ],
   "source": [
    "from sklearn.externals import joblib \n",
    "\n",
    "# 객체를 pickled binary file 형태로 저장한다 \n",
    "file_name = 'model_upgrade.pkl' \n",
    "joblib.dump(model_upgrade, file_name) "
   ]
  },
  {
   "cell_type": "code",
   "execution_count": null,
   "metadata": {
    "id": "-Hq6U3WTJC_Q"
   },
   "outputs": [],
   "source": []
  }
 ],
 "metadata": {
  "colab": {
   "name": "200316_머신러닝 모델 구축_XGboost_ver.01.ipynb",
   "provenance": []
  },
  "kernelspec": {
   "display_name": "Python 3",
   "language": "python",
   "name": "python3"
  },
  "language_info": {
   "codemirror_mode": {
    "name": "ipython",
    "version": 3
   },
   "file_extension": ".py",
   "mimetype": "text/x-python",
   "name": "python",
   "nbconvert_exporter": "python",
   "pygments_lexer": "ipython3",
   "version": "3.7.4"
  }
 },
 "nbformat": 4,
 "nbformat_minor": 1
}
